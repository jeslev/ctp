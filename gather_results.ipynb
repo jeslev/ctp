{
 "cells": [
  {
   "cell_type": "code",
   "execution_count": 49,
   "metadata": {},
   "outputs": [],
   "source": [
    "import json\n",
    "import os\n",
    "import pandas as pd\n"
   ]
  },
  {
   "cell_type": "markdown",
   "metadata": {},
   "source": [
    "# Without definitions (for taxonomy)"
   ]
  },
  {
   "cell_type": "code",
   "execution_count": 50,
   "metadata": {},
   "outputs": [],
   "source": [
    "basepath = \"./outputs/results\"\n",
    "filename = \"metrics_pall_{loss}_{modelname}_{lr}_seed{seed}_epoch_{epoch}.json\""
   ]
  },
  {
   "cell_type": "code",
   "execution_count": 51,
   "metadata": {},
   "outputs": [],
   "source": [
    "loss = 'triplet'\n",
    "lr='1e6'\n",
    "models = {\n",
    "  'bert': 'bert + props (words) + triplet loss',\n",
    "  'bertdef': 'bert + props (definitions) + triplet loss',\n",
    "  'mbert': 'mbert + props (words) + triplet loss',\n",
    "  'mbertdef': 'mbert + props (definitions) + triplet loss',\n",
    "  'robertal': 'roberta + props (words) + triplet loss',\n",
    "  'robertaldef': 'roberta + props (definitions) + triplet loss,',\n",
    "  'bert-mner-old': 'bert + props (words) + mner loss',\n",
    "  #'bert-triplet-old': ,\n",
    "}\n",
    "seed = 2"
   ]
  },
  {
   "cell_type": "code",
   "execution_count": 52,
   "metadata": {},
   "outputs": [
    {
     "name": "stdout",
     "output_type": "stream",
     "text": [
      "0.409 7\n",
      "['Epoch num 5: pruned_precision 0.62 // pruned_recall 0.57 // pruned_f1 0.58']\n",
      "0.403 4\n",
      "['Epoch num 5: pruned_precision 0.64 // pruned_recall 0.59 // pruned_f1 0.6']\n",
      "0.38 9\n",
      "['Epoch num 5: pruned_precision 0.53 // pruned_recall 0.52 // pruned_f1 0.51']\n",
      "0.389 5\n",
      "['Epoch num 5: pruned_precision 0.55 // pruned_recall 0.53 // pruned_f1 0.53']\n",
      "0.42 8\n",
      "['Epoch num 5: pruned_precision 0.58 // pruned_recall 0.57 // pruned_f1 0.57']\n",
      "0.438 4\n",
      "['Epoch num 5: pruned_precision 0.64 // pruned_recall 0.63 // pruned_f1 0.62']\n",
      "0.405 7\n",
      "['Epoch num 5: pruned_precision 0.62 // pruned_recall 0.61 // pruned_f1 0.6']\n"
     ]
    }
   ],
   "source": [
    "all_results = []\n",
    "\n",
    "for model, name in models.items():\n",
    "    row = [name]#model name, f1 score, best epoch, 2-step score f1\n",
    "    # get best epoch score for each model\n",
    "    best_epoch, best_f1 = 0,0.0\n",
    "    for epoch in range(10):\n",
    "        resultfile = os.path.join(basepath,filename.format(loss=loss, modelname=model, lr=lr, seed=seed, epoch=epoch))\n",
    "        with open(resultfile, \"r\") as file:\n",
    "            _json = json.load(file)\n",
    "            if _json['F1'] > best_f1:\n",
    "                best_f1 = _json['F1']\n",
    "                best_epoch = epoch\n",
    "            \n",
    "    row.append(best_f1)\n",
    "    row.append(best_epoch)\n",
    "    print(best_f1, best_epoch)\n",
    "    # run 2step (using the last epoch, not the best)\n",
    "    configfile = f'WN_pall_{loss}_{model}_{lr}_seeed{seed}'\n",
    "    #print(configfile)\n",
    "    result = !cd ctp/inference && ~/envs/ctp/bin/python examine_subtrees.py --prediction-metric-type ancestor --experiment-name {configfile}\n",
    "    print(result)\n",
    "    f1_2step = float(result[0].split(\"//\")[-1].split(\" \")[-1].strip())\n",
    "    row.append(f1_2step)\n",
    "    all_results.append(row)"
   ]
  },
  {
   "cell_type": "code",
   "execution_count": 53,
   "metadata": {},
   "outputs": [
    {
     "data": {
      "text/html": [
       "<div>\n",
       "<style scoped>\n",
       "    .dataframe tbody tr th:only-of-type {\n",
       "        vertical-align: middle;\n",
       "    }\n",
       "\n",
       "    .dataframe tbody tr th {\n",
       "        vertical-align: top;\n",
       "    }\n",
       "\n",
       "    .dataframe thead th {\n",
       "        text-align: right;\n",
       "    }\n",
       "</style>\n",
       "<table border=\"1\" class=\"dataframe\">\n",
       "  <thead>\n",
       "    <tr style=\"text-align: right;\">\n",
       "      <th></th>\n",
       "      <th>model</th>\n",
       "      <th>f1</th>\n",
       "      <th>epoch</th>\n",
       "      <th>f1</th>\n",
       "    </tr>\n",
       "  </thead>\n",
       "  <tbody>\n",
       "    <tr>\n",
       "      <th>0</th>\n",
       "      <td>bert + props (words) + triplet loss</td>\n",
       "      <td>0.409</td>\n",
       "      <td>7</td>\n",
       "      <td>0.58</td>\n",
       "    </tr>\n",
       "    <tr>\n",
       "      <th>1</th>\n",
       "      <td>bert + props (definitions) + triplet loss</td>\n",
       "      <td>0.403</td>\n",
       "      <td>4</td>\n",
       "      <td>0.60</td>\n",
       "    </tr>\n",
       "    <tr>\n",
       "      <th>2</th>\n",
       "      <td>mbert + props (words) + triplet loss</td>\n",
       "      <td>0.380</td>\n",
       "      <td>9</td>\n",
       "      <td>0.51</td>\n",
       "    </tr>\n",
       "    <tr>\n",
       "      <th>3</th>\n",
       "      <td>mbert + props (definitions) + triplet loss</td>\n",
       "      <td>0.389</td>\n",
       "      <td>5</td>\n",
       "      <td>0.53</td>\n",
       "    </tr>\n",
       "    <tr>\n",
       "      <th>4</th>\n",
       "      <td>roberta + props (words) + triplet loss</td>\n",
       "      <td>0.420</td>\n",
       "      <td>8</td>\n",
       "      <td>0.57</td>\n",
       "    </tr>\n",
       "    <tr>\n",
       "      <th>5</th>\n",
       "      <td>roberta + props (definitions) + triplet loss,</td>\n",
       "      <td>0.438</td>\n",
       "      <td>4</td>\n",
       "      <td>0.62</td>\n",
       "    </tr>\n",
       "    <tr>\n",
       "      <th>6</th>\n",
       "      <td>bert + props (words) + mner loss</td>\n",
       "      <td>0.405</td>\n",
       "      <td>7</td>\n",
       "      <td>0.60</td>\n",
       "    </tr>\n",
       "  </tbody>\n",
       "</table>\n",
       "</div>"
      ],
      "text/plain": [
       "                                           model     f1  epoch    f1\n",
       "0            bert + props (words) + triplet loss  0.409      7  0.58\n",
       "1      bert + props (definitions) + triplet loss  0.403      4  0.60\n",
       "2           mbert + props (words) + triplet loss  0.380      9  0.51\n",
       "3     mbert + props (definitions) + triplet loss  0.389      5  0.53\n",
       "4         roberta + props (words) + triplet loss  0.420      8  0.57\n",
       "5  roberta + props (definitions) + triplet loss,  0.438      4  0.62\n",
       "6               bert + props (words) + mner loss  0.405      7  0.60"
      ]
     },
     "execution_count": 53,
     "metadata": {},
     "output_type": "execute_result"
    }
   ],
   "source": [
    "df = pd.DataFrame(all_results, columns = ['model', 'f1', 'epoch', 'f1'])\n",
    "df"
   ]
  },
  {
   "cell_type": "markdown",
   "metadata": {},
   "source": [
    "# With definitions - In training taxonomy"
   ]
  },
  {
   "cell_type": "code",
   "execution_count": 54,
   "metadata": {},
   "outputs": [],
   "source": [
    "basepath = \"./outputs/results\"\n",
    "filename = \"metrics_pall_{loss}_defs_{modelname}_{lr}_seed{seed}_epoch_{epoch}.json\""
   ]
  },
  {
   "cell_type": "code",
   "execution_count": 55,
   "metadata": {},
   "outputs": [],
   "source": [
    "loss = 'triplet'\n",
    "lr='1e6'\n",
    "models = {\n",
    "  'bert': 'bert + props (words) + triplet loss',\n",
    "  'bertdef': 'bert + props (definitions) + triplet loss',\n",
    "  'mbert': 'mbert + props (words) + triplet loss',\n",
    "  'mbertdef': 'mbert + props (definitions) + triplet loss',\n",
    "  'robertal': 'roberta + props (words) + triplet loss',\n",
    "  'robertaldef': 'roberta + props (definitions) + triplet loss,',\n",
    "  'bert-mner-old': 'bert + props (words) + mner loss',\n",
    "  #'bert-triplet-old': ,\n",
    "}\n",
    "seed = 2"
   ]
  },
  {
   "cell_type": "code",
   "execution_count": 56,
   "metadata": {},
   "outputs": [
    {
     "name": "stdout",
     "output_type": "stream",
     "text": [
      "0.664 6\n",
      "['Epoch num 5: pruned_precision 0.62 // pruned_recall 0.57 // pruned_f1 0.58']\n",
      "0.634 2\n",
      "['Epoch num 5: pruned_precision 0.64 // pruned_recall 0.59 // pruned_f1 0.6']\n",
      "0.675 6\n",
      "['Epoch num 5: pruned_precision 0.53 // pruned_recall 0.52 // pruned_f1 0.51']\n",
      "0.646 2\n",
      "['Epoch num 5: pruned_precision 0.55 // pruned_recall 0.53 // pruned_f1 0.53']\n",
      "0.681 6\n",
      "['Epoch num 5: pruned_precision 0.58 // pruned_recall 0.57 // pruned_f1 0.57']\n",
      "0.674 2\n",
      "['Epoch num 5: pruned_precision 0.64 // pruned_recall 0.63 // pruned_f1 0.62']\n",
      "0.664 6\n",
      "['Epoch num 5: pruned_precision 0.62 // pruned_recall 0.61 // pruned_f1 0.6']\n"
     ]
    }
   ],
   "source": [
    "all_results = []\n",
    "\n",
    "for model, name in models.items():\n",
    "    row = [name]#model name, f1 score, best epoch, 2-step score f1\n",
    "    # get best epoch score for each model\n",
    "    best_epoch, best_f1 = 0,0.0\n",
    "    for epoch in range(10):\n",
    "        resultfile = os.path.join(basepath,filename.format(loss=loss, modelname=model, lr=lr, seed=seed, epoch=epoch))\n",
    "        with open(resultfile, \"r\") as file:\n",
    "            _json = json.load(file)\n",
    "            if _json['F1'] > best_f1:\n",
    "                best_f1 = _json['F1']\n",
    "                best_epoch = epoch\n",
    "            \n",
    "    row.append(best_f1)\n",
    "    row.append(best_epoch)\n",
    "    print(best_f1, best_epoch)\n",
    "    # run 2step (using the last epoch, not the best)\n",
    "    configfile = f'WN_pall_{loss}_{model}_{lr}_seeed{seed}'\n",
    "    #print(configfile)\n",
    "    result = !cd ctp/inference && ~/envs/ctp/bin/python examine_subtrees.py --prediction-metric-type ancestor --experiment-name {configfile}\n",
    "    print(result)\n",
    "    f1_2step = float(result[0].split(\"//\")[-1].split(\" \")[-1].strip())\n",
    "    row.append(f1_2step)\n",
    "    all_results.append(row)"
   ]
  },
  {
   "cell_type": "code",
   "execution_count": 57,
   "metadata": {},
   "outputs": [
    {
     "data": {
      "text/html": [
       "<div>\n",
       "<style scoped>\n",
       "    .dataframe tbody tr th:only-of-type {\n",
       "        vertical-align: middle;\n",
       "    }\n",
       "\n",
       "    .dataframe tbody tr th {\n",
       "        vertical-align: top;\n",
       "    }\n",
       "\n",
       "    .dataframe thead th {\n",
       "        text-align: right;\n",
       "    }\n",
       "</style>\n",
       "<table border=\"1\" class=\"dataframe\">\n",
       "  <thead>\n",
       "    <tr style=\"text-align: right;\">\n",
       "      <th></th>\n",
       "      <th>model</th>\n",
       "      <th>f1</th>\n",
       "      <th>epoch</th>\n",
       "      <th>f1</th>\n",
       "    </tr>\n",
       "  </thead>\n",
       "  <tbody>\n",
       "    <tr>\n",
       "      <th>0</th>\n",
       "      <td>bert + props (words) + triplet loss</td>\n",
       "      <td>0.664</td>\n",
       "      <td>6</td>\n",
       "      <td>0.58</td>\n",
       "    </tr>\n",
       "    <tr>\n",
       "      <th>1</th>\n",
       "      <td>bert + props (definitions) + triplet loss</td>\n",
       "      <td>0.634</td>\n",
       "      <td>2</td>\n",
       "      <td>0.60</td>\n",
       "    </tr>\n",
       "    <tr>\n",
       "      <th>2</th>\n",
       "      <td>mbert + props (words) + triplet loss</td>\n",
       "      <td>0.675</td>\n",
       "      <td>6</td>\n",
       "      <td>0.51</td>\n",
       "    </tr>\n",
       "    <tr>\n",
       "      <th>3</th>\n",
       "      <td>mbert + props (definitions) + triplet loss</td>\n",
       "      <td>0.646</td>\n",
       "      <td>2</td>\n",
       "      <td>0.53</td>\n",
       "    </tr>\n",
       "    <tr>\n",
       "      <th>4</th>\n",
       "      <td>roberta + props (words) + triplet loss</td>\n",
       "      <td>0.681</td>\n",
       "      <td>6</td>\n",
       "      <td>0.57</td>\n",
       "    </tr>\n",
       "    <tr>\n",
       "      <th>5</th>\n",
       "      <td>roberta + props (definitions) + triplet loss,</td>\n",
       "      <td>0.674</td>\n",
       "      <td>2</td>\n",
       "      <td>0.62</td>\n",
       "    </tr>\n",
       "    <tr>\n",
       "      <th>6</th>\n",
       "      <td>bert + props (words) + mner loss</td>\n",
       "      <td>0.664</td>\n",
       "      <td>6</td>\n",
       "      <td>0.60</td>\n",
       "    </tr>\n",
       "  </tbody>\n",
       "</table>\n",
       "</div>"
      ],
      "text/plain": [
       "                                           model     f1  epoch    f1\n",
       "0            bert + props (words) + triplet loss  0.664      6  0.58\n",
       "1      bert + props (definitions) + triplet loss  0.634      2  0.60\n",
       "2           mbert + props (words) + triplet loss  0.675      6  0.51\n",
       "3     mbert + props (definitions) + triplet loss  0.646      2  0.53\n",
       "4         roberta + props (words) + triplet loss  0.681      6  0.57\n",
       "5  roberta + props (definitions) + triplet loss,  0.674      2  0.62\n",
       "6               bert + props (words) + mner loss  0.664      6  0.60"
      ]
     },
     "execution_count": 57,
     "metadata": {},
     "output_type": "execute_result"
    }
   ],
   "source": [
    "df = pd.DataFrame(all_results, columns = ['model', 'f1', 'epoch', 'f1'])\n",
    "df"
   ]
  },
  {
   "cell_type": "code",
   "execution_count": null,
   "metadata": {},
   "outputs": [],
   "source": []
  }
 ],
 "metadata": {
  "kernelspec": {
   "display_name": "hierarchy",
   "language": "python",
   "name": "hierarchy"
  },
  "language_info": {
   "codemirror_mode": {
    "name": "ipython",
    "version": 3
   },
   "file_extension": ".py",
   "mimetype": "text/x-python",
   "name": "python",
   "nbconvert_exporter": "python",
   "pygments_lexer": "ipython3",
   "version": "3.8.12"
  }
 },
 "nbformat": 4,
 "nbformat_minor": 4
}
